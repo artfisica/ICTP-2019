{
 "cells": [
  {
   "cell_type": "markdown",
   "metadata": {},
   "source": [
    "<CENTER>\n",
    "    <a href=\"http://opendata.atlas.cern\" class=\"icons\"><img src=\"../Assets/ATLASOD.gif\" style=\"width:50%\"></a>\n",
    "</CENTER>"
   ]
  },
  {
   "cell_type": "markdown",
   "metadata": {},
   "source": [
    "<CENTER><h1>Searching for the Higgs boson in the H&#8594;&gamma;&gamma; channel</h1></CENTER>\n",
    "## Python notebook example"
   ]
  },
  {
   "cell_type": "markdown",
   "metadata": {},
   "source": [
    "**Introduction**\n",
    "Let's take a current ATLAS Open Data sample and create a histogram:"
   ]
  },
  {
   "cell_type": "code",
   "execution_count": 1,
   "metadata": {
    "collapsed": false
   },
   "outputs": [
    {
     "data": {
      "application/javascript": [
       "IPython.CodeCell.config_defaults.highlight_modes['magic_text/x-c++src'] = {'reg':[/^%%cpp/]};"
      ]
     },
     "metadata": {},
     "output_type": "display_data"
    },
    {
     "name": "stdout",
     "output_type": "stream",
     "text": [
      "Welcome to JupyROOT 6.07/03\n"
     ]
    }
   ],
   "source": [
    "import ROOT\n",
    "from ROOT import TMath\n",
    "import time"
   ]
  },
  {
   "cell_type": "code",
   "execution_count": 2,
   "metadata": {
    "collapsed": false
   },
   "outputs": [],
   "source": [
    "start = time.time()"
   ]
  },
  {
   "cell_type": "markdown",
   "metadata": {},
   "source": [
    "Because we would like to use more than one ROOT input file, the best option is to use a TChain object. This allows to \"chain\" several samples into a single structure that we can later loop over"
   ]
  },
  {
   "cell_type": "code",
   "execution_count": 3,
   "metadata": {
    "collapsed": false,
    "scrolled": true
   },
   "outputs": [
    {
     "name": "stderr",
     "output_type": "stream",
     "text": [
      "TClass::Init:0: RuntimeWarning: no dictionary for class ROOT::TIOFeatures is available\n"
     ]
    }
   ],
   "source": [
    "## f = ROOT.TFile.Open(\"http://opendata.atlas.cern/release/samples/2019/GamGam/Data/dataA_yy.root\")\n",
    "    #(\"Data/dataA_yy.root\")\n",
    "    #(\"Data/dataB_yy.root\")\n",
    "    #(\"Data/dataC_yy.root\")\n",
    "    #(\"Data/dataD_yy.root\")\n",
    "    \n",
    "## the file called data-All-yy.root is a merged of all data\n",
    "f = ROOT.TFile.Open(\"http://opendata.atlas.cern/release/samples/2019/GamGam/Data/data-All-yy.root\")"
   ]
  },
  {
   "cell_type": "code",
   "execution_count": 4,
   "metadata": {
    "collapsed": true
   },
   "outputs": [],
   "source": [
    "canvas = ROOT.TCanvas(\"Canvas\",\"cz\",1000,1000)"
   ]
  },
  {
   "cell_type": "code",
   "execution_count": 5,
   "metadata": {
    "collapsed": false
   },
   "outputs": [],
   "source": [
    "tree = f.Get(\"mini\")"
   ]
  },
  {
   "cell_type": "markdown",
   "metadata": {},
   "source": [
    "Now we're going to extract the photons variables"
   ]
  },
  {
   "cell_type": "code",
   "execution_count": null,
   "metadata": {
    "collapsed": false
   },
   "outputs": [],
   "source": [
    "#Invariant mass histograms definition\n",
    "hist = ROOT.TH1F(\"h_M_Hyy\",\"Invariant Mass of di-photon system ; Invariant Mass m_{yy} [GeV] ; events\",50,80,280)"
   ]
  },
  {
   "cell_type": "markdown",
   "metadata": {},
   "source": [
    "Here we're filling the variables defined above with the content of those inside the input ntuples"
   ]
  },
  {
   "cell_type": "markdown",
   "metadata": {},
   "source": [
    "We're creating a histogram for this example. The plan in to fill them with events."
   ]
  },
  {
   "cell_type": "markdown",
   "metadata": {},
   "source": [
    "We are selecting below a simple look for them."
   ]
  },
  {
   "cell_type": "markdown",
   "metadata": {},
   "source": [
    "The Higgs boson analysis implemented here considers Higgs boson decays into a proton-proton pair. The event selection criteria are:"
   ]
  },
  {
   "cell_type": "code",
   "execution_count": null,
   "metadata": {
    "collapsed": false,
    "scrolled": true
   },
   "outputs": [
    {
     "name": "stdout",
     "output_type": "stream",
     "text": [
      "10000\n",
      "20000\n",
      "30000\n",
      "40000\n",
      "50000\n",
      "60000\n",
      "70000\n",
      "80000\n",
      "90000\n",
      "100000\n",
      "110000\n",
      "120000\n",
      "130000\n",
      "140000\n"
     ]
    }
   ],
   "source": [
    "Photon_1 = ROOT.TLorentzVector()\n",
    "Photon_2 = ROOT.TLorentzVector()\n",
    "n = 0\n",
    "for event in tree:\n",
    "    n += 1\n",
    "    ## printing the evolution in number of events\n",
    "    if(n%10000==0):\n",
    "        print(n)\n",
    "    ## checking the trigger    \n",
    "    if(tree.trigP):\n",
    "        goodphoton_index = [0]*5\n",
    "        goodphoton_n = 0\n",
    "        photon_index = 0\n",
    "        ##            \n",
    "        j=0\n",
    "        ## looping the photons per event\n",
    "        for j in range(tree.photon_n):\n",
    "            ##\n",
    "            if(tree.photon_isTightID[j]):\n",
    "                ##\n",
    "                if(tree.photon_pt[j] > 25000 and (TMath.Abs(tree.photon_eta[j]) < 2.37)\\\n",
    "                   and (TMath.Abs(tree.photon_eta[j]) < 1.37 or TMath.Abs(tree.photon_eta[j]) > 1.52)):\n",
    "                    ##\n",
    "                    goodphoton_n += 1  #count\n",
    "                    goodphoton_index[photon_index]=j\n",
    "                    photon_index += 1\n",
    "                ## end Pt and eta pre-selection\n",
    "            ## end on request of quality of the photon\n",
    "        ## end looping photons in the current event\n",
    "            \n",
    "        ## Using the two selected photons\n",
    "        if(goodphoton_n==2):\n",
    "            ##\n",
    "            goodphoton1_index = goodphoton_index[0]\n",
    "            goodphoton2_index = goodphoton_index[1]\n",
    "            ## Getting couple of photons with good isolation \n",
    "            if((tree.photon_ptcone30[goodphoton1_index]/tree.photon_pt[goodphoton1_index] < 0.065)\\\n",
    "               and (tree.photon_etcone20[goodphoton1_index] / tree.photon_pt[goodphoton1_index] < 0.065)):\n",
    "                ##\n",
    "                if((tree.photon_ptcone30[goodphoton2_index]/tree.photon_pt[goodphoton2_index] < 0.065)\\\n",
    "                   and (tree.photon_etcone20[goodphoton2_index] / tree.photon_pt[goodphoton2_index] < 0.065)):\n",
    "                    ##\n",
    "                    Photon_1.SetPtEtaPhiE(tree.photon_pt[goodphoton1_index]/1000., tree.photon_eta[goodphoton1_index],\\\n",
    "                                          tree.photon_phi[goodphoton1_index],tree.photon_E[goodphoton1_index]/1000.)\n",
    "                    Photon_2.SetPtEtaPhiE(tree.photon_pt[goodphoton2_index]/1000., tree.photon_eta[goodphoton2_index],\\\n",
    "                                          tree.photon_phi[goodphoton2_index],tree.photon_E[goodphoton2_index]/1000.)\n",
    "                    ## Adding the two TLorentz vectors\n",
    "                    Photon_12 = Photon_1 + Photon_2\n",
    "                    ## Filling with the mass of the gamma-gamma system\n",
    "                    hist.Fill(Photon_12.M())\n",
    "                ## end isolation photon #2\n",
    "            ## end isolation photon #1\n",
    "        ## end 2-good photons\n",
    "    ## end of trigger request\n",
    "## End loop in the events"
   ]
  },
  {
   "cell_type": "markdown",
   "metadata": {},
   "source": [
    "#### Final plot"
   ]
  },
  {
   "cell_type": "code",
   "execution_count": null,
   "metadata": {
    "collapsed": false
   },
   "outputs": [],
   "source": [
    "hist.Draw()\n",
    "canvas.Draw()"
   ]
  },
  {
   "cell_type": "markdown",
   "metadata": {},
   "source": [
    "#### Log Scale"
   ]
  },
  {
   "cell_type": "code",
   "execution_count": null,
   "metadata": {
    "collapsed": false
   },
   "outputs": [],
   "source": [
    "hist.Draw(\"E\")\n",
    "hist.SetMinimum(10)\n",
    "canvas.SetLogy()\n",
    "canvas.Draw()"
   ]
  },
  {
   "cell_type": "code",
   "execution_count": null,
   "metadata": {
    "collapsed": false
   },
   "outputs": [],
   "source": [
    "end = time.time()\n",
    "duration = end-start\n",
    "print(\"Finished in {} min {} s\").format(int(duration//60),int(duration%60))"
   ]
  }
 ],
 "metadata": {
  "kernelspec": {
   "display_name": "Python 2",
   "language": "python",
   "name": "python2"
  },
  "language_info": {
   "codemirror_mode": {
    "name": "ipython",
    "version": 2
   },
   "file_extension": ".py",
   "mimetype": "text/x-python",
   "name": "python",
   "nbconvert_exporter": "python",
   "pygments_lexer": "ipython2",
   "version": "2.7.13"
  }
 },
 "nbformat": 4,
 "nbformat_minor": 1
}
